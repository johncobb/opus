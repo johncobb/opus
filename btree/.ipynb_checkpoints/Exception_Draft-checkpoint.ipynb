{
 "cells": [
  {
   "cell_type": "markdown",
   "metadata": {},
   "source": [
    "# Exploring Jupyter\n",
    "\n",
    " - Loading files\n",
    " - Analyzing files\n",
    " - Calculating differences"
   ]
  },
  {
   "cell_type": "markdown",
   "metadata": {},
   "source": [
    "### Working with python"
   ]
  },
  {
   "cell_type": "code",
   "execution_count": 3,
   "metadata": {},
   "outputs": [],
   "source": [
    "name = \"Shall we play a game?\""
   ]
  },
  {
   "cell_type": "code",
   "execution_count": 4,
   "metadata": {},
   "outputs": [
    {
     "name": "stdout",
     "output_type": "stream",
     "text": [
      "Shall we play a game?\n"
     ]
    }
   ],
   "source": [
    "print(name)"
   ]
  },
  {
   "cell_type": "markdown",
   "metadata": {},
   "source": [
    "### Working with command line"
   ]
  },
  {
   "cell_type": "code",
   "execution_count": 7,
   "metadata": {},
   "outputs": [
    {
     "name": "stdout",
     "output_type": "stream",
     "text": [
      "Analytics.ipynb       btree.cpp             requirements.txt\r\n",
      "Exception_Draft.ipynb \u001b[34menv\u001b[m\u001b[m                   \u001b[31mvin_dataset_master\u001b[m\u001b[m\r\n"
     ]
    }
   ],
   "source": [
    "!ls"
   ]
  },
  {
   "cell_type": "code",
   "execution_count": 4,
   "metadata": {},
   "outputs": [],
   "source": [
    "!cp ../pandas_file_comparison/training/base_50 ."
   ]
  },
  {
   "cell_type": "code",
   "execution_count": 5,
   "metadata": {},
   "outputs": [],
   "source": [
    "!cp ../pandas_file_comparison/training/base_100 ."
   ]
  },
  {
   "cell_type": "markdown",
   "metadata": {},
   "source": [
    "###  Working with Pandas"
   ]
  },
  {
   "cell_type": "code",
   "execution_count": 8,
   "metadata": {},
   "outputs": [],
   "source": [
    "import pandas as pd"
   ]
  },
  {
   "cell_type": "code",
   "execution_count": 9,
   "metadata": {},
   "outputs": [],
   "source": [
    "df_50 = pd.read_csv('vin_dataset_master', sep='\\t', names=['vin', 'make'])"
   ]
  },
  {
   "cell_type": "code",
   "execution_count": 10,
   "metadata": {},
   "outputs": [
    {
     "data": {
      "text/html": [
       "<div>\n",
       "<style scoped>\n",
       "    .dataframe tbody tr th:only-of-type {\n",
       "        vertical-align: middle;\n",
       "    }\n",
       "\n",
       "    .dataframe tbody tr th {\n",
       "        vertical-align: top;\n",
       "    }\n",
       "\n",
       "    .dataframe thead th {\n",
       "        text-align: right;\n",
       "    }\n",
       "</style>\n",
       "<table border=\"1\" class=\"dataframe\">\n",
       "  <thead>\n",
       "    <tr style=\"text-align: right;\">\n",
       "      <th></th>\n",
       "      <th>vin</th>\n",
       "      <th>make</th>\n",
       "    </tr>\n",
       "  </thead>\n",
       "  <tbody>\n",
       "    <tr>\n",
       "      <th>count</th>\n",
       "      <td>262617</td>\n",
       "      <td>262617</td>\n",
       "    </tr>\n",
       "    <tr>\n",
       "      <th>unique</th>\n",
       "      <td>1</td>\n",
       "      <td>35</td>\n",
       "    </tr>\n",
       "    <tr>\n",
       "      <th>top</th>\n",
       "      <td>LEXUS</td>\n",
       "      <td>RX</td>\n",
       "    </tr>\n",
       "    <tr>\n",
       "      <th>freq</th>\n",
       "      <td>262617</td>\n",
       "      <td>85282</td>\n",
       "    </tr>\n",
       "  </tbody>\n",
       "</table>\n",
       "</div>"
      ],
      "text/plain": [
       "           vin    make\n",
       "count   262617  262617\n",
       "unique       1      35\n",
       "top      LEXUS      RX\n",
       "freq    262617   85282"
      ]
     },
     "execution_count": 10,
     "metadata": {},
     "output_type": "execute_result"
    }
   ],
   "source": [
    "df_50.describe()"
   ]
  },
  {
   "cell_type": "code",
   "execution_count": 9,
   "metadata": {},
   "outputs": [],
   "source": [
    "df_100 = pd.read_csv('base_100', sep='\\t', names=['vin', 'make'])"
   ]
  },
  {
   "cell_type": "code",
   "execution_count": 10,
   "metadata": {},
   "outputs": [
    {
     "data": {
      "text/html": [
       "<div>\n",
       "<style scoped>\n",
       "    .dataframe tbody tr th:only-of-type {\n",
       "        vertical-align: middle;\n",
       "    }\n",
       "\n",
       "    .dataframe tbody tr th {\n",
       "        vertical-align: top;\n",
       "    }\n",
       "\n",
       "    .dataframe thead th {\n",
       "        text-align: right;\n",
       "    }\n",
       "</style>\n",
       "<table border=\"1\" class=\"dataframe\">\n",
       "  <thead>\n",
       "    <tr style=\"text-align: right;\">\n",
       "      <th></th>\n",
       "      <th>vin</th>\n",
       "      <th>make</th>\n",
       "    </tr>\n",
       "  </thead>\n",
       "  <tbody>\n",
       "    <tr>\n",
       "      <th>count</th>\n",
       "      <td>100</td>\n",
       "      <td>100</td>\n",
       "    </tr>\n",
       "    <tr>\n",
       "      <th>unique</th>\n",
       "      <td>100</td>\n",
       "      <td>16</td>\n",
       "    </tr>\n",
       "    <tr>\n",
       "      <th>top</th>\n",
       "      <td>1J8HH48P47C636135</td>\n",
       "      <td>LEXUS</td>\n",
       "    </tr>\n",
       "    <tr>\n",
       "      <th>freq</th>\n",
       "      <td>1</td>\n",
       "      <td>33</td>\n",
       "    </tr>\n",
       "  </tbody>\n",
       "</table>\n",
       "</div>"
      ],
      "text/plain": [
       "                      vin   make\n",
       "count                 100    100\n",
       "unique                100     16\n",
       "top     1J8HH48P47C636135  LEXUS\n",
       "freq                    1     33"
      ]
     },
     "execution_count": 10,
     "metadata": {},
     "output_type": "execute_result"
    }
   ],
   "source": [
    "df_100.describe()"
   ]
  },
  {
   "cell_type": "code",
   "execution_count": 11,
   "metadata": {},
   "outputs": [],
   "source": [
    "df = df_50['vin'].isin(df_100['vin'])"
   ]
  },
  {
   "cell_type": "code",
   "execution_count": 12,
   "metadata": {},
   "outputs": [
    {
     "data": {
      "text/plain": [
       "count       50\n",
       "unique       1\n",
       "top       True\n",
       "freq        50\n",
       "Name: vin, dtype: object"
      ]
     },
     "execution_count": 12,
     "metadata": {},
     "output_type": "execute_result"
    }
   ],
   "source": [
    "df.describe()"
   ]
  },
  {
   "cell_type": "code",
   "execution_count": 13,
   "metadata": {},
   "outputs": [
    {
     "data": {
      "text/plain": [
       "count       50\n",
       "unique       1\n",
       "top       True\n",
       "freq        50\n",
       "Name: vin, dtype: object"
      ]
     },
     "execution_count": 13,
     "metadata": {},
     "output_type": "execute_result"
    }
   ],
   "source": [
    "df.describe()"
   ]
  },
  {
   "cell_type": "markdown",
   "metadata": {},
   "source": [
    "### Comparing DataFrames\n",
    "The following code lists all records where vin are in both df_50 and df_100. Reordering the DataFrames at the beginning of the function will impact the results. Modifying the how parameter from 'left' to 'right' will also have the same impact as reordering the DataFrames."
   ]
  },
  {
   "cell_type": "code",
   "execution_count": 14,
   "metadata": {},
   "outputs": [
    {
     "data": {
      "text/html": [
       "<div>\n",
       "<style scoped>\n",
       "    .dataframe tbody tr th:only-of-type {\n",
       "        vertical-align: middle;\n",
       "    }\n",
       "\n",
       "    .dataframe tbody tr th {\n",
       "        vertical-align: top;\n",
       "    }\n",
       "\n",
       "    .dataframe thead th {\n",
       "        text-align: right;\n",
       "    }\n",
       "</style>\n",
       "<table border=\"1\" class=\"dataframe\">\n",
       "  <thead>\n",
       "    <tr style=\"text-align: right;\">\n",
       "      <th></th>\n",
       "      <th>vin</th>\n",
       "      <th>make_x</th>\n",
       "      <th>make_y</th>\n",
       "    </tr>\n",
       "  </thead>\n",
       "  <tbody>\n",
       "    <tr>\n",
       "      <th>0</th>\n",
       "      <td>WBAVC93527KX57115</td>\n",
       "      <td>BMW</td>\n",
       "      <td>BMW</td>\n",
       "    </tr>\n",
       "    <tr>\n",
       "      <th>1</th>\n",
       "      <td>5TDZK22C08S144726</td>\n",
       "      <td>TOYOTA</td>\n",
       "      <td>TOYOTA</td>\n",
       "    </tr>\n",
       "    <tr>\n",
       "      <th>2</th>\n",
       "      <td>5TDZK22C18S143326</td>\n",
       "      <td>TOYOTA</td>\n",
       "      <td>TOYOTA</td>\n",
       "    </tr>\n",
       "    <tr>\n",
       "      <th>3</th>\n",
       "      <td>5TDZK22C58S129784</td>\n",
       "      <td>TOYOTA</td>\n",
       "      <td>TOYOTA</td>\n",
       "    </tr>\n",
       "    <tr>\n",
       "      <th>4</th>\n",
       "      <td>JTHBJ46G782185180</td>\n",
       "      <td>LEXUS</td>\n",
       "      <td>LEXUS</td>\n",
       "    </tr>\n",
       "    <tr>\n",
       "      <th>5</th>\n",
       "      <td>JTHBJ46G682185204</td>\n",
       "      <td>LEXUS</td>\n",
       "      <td>LEXUS</td>\n",
       "    </tr>\n",
       "    <tr>\n",
       "      <th>6</th>\n",
       "      <td>JTHBJ46G682169908</td>\n",
       "      <td>LEXUS</td>\n",
       "      <td>LEXUS</td>\n",
       "    </tr>\n",
       "    <tr>\n",
       "      <th>7</th>\n",
       "      <td>JTHBJ46G382172586</td>\n",
       "      <td>LEXUS</td>\n",
       "      <td>LEXUS</td>\n",
       "    </tr>\n",
       "    <tr>\n",
       "      <th>8</th>\n",
       "      <td>JTHBJ46G882175791</td>\n",
       "      <td>LEXUS</td>\n",
       "      <td>LEXUS</td>\n",
       "    </tr>\n",
       "    <tr>\n",
       "      <th>9</th>\n",
       "      <td>JTHBJ46G982175878</td>\n",
       "      <td>LEXUS</td>\n",
       "      <td>LEXUS</td>\n",
       "    </tr>\n",
       "    <tr>\n",
       "      <th>10</th>\n",
       "      <td>JTHBJ46G182176684</td>\n",
       "      <td>LEXUS</td>\n",
       "      <td>LEXUS</td>\n",
       "    </tr>\n",
       "    <tr>\n",
       "      <th>11</th>\n",
       "      <td>JTEBT14R48K001632</td>\n",
       "      <td>TOYOTA</td>\n",
       "      <td>TOYOTA</td>\n",
       "    </tr>\n",
       "    <tr>\n",
       "      <th>12</th>\n",
       "      <td>5TDZK22C18S146193</td>\n",
       "      <td>TOYOTA</td>\n",
       "      <td>TOYOTA</td>\n",
       "    </tr>\n",
       "    <tr>\n",
       "      <th>13</th>\n",
       "      <td>WBAVD135X6KV03181</td>\n",
       "      <td>BMW</td>\n",
       "      <td>BMW</td>\n",
       "    </tr>\n",
       "    <tr>\n",
       "      <th>14</th>\n",
       "      <td>5TDZK22C98S135555</td>\n",
       "      <td>TOYOTA</td>\n",
       "      <td>TOYOTA</td>\n",
       "    </tr>\n",
       "    <tr>\n",
       "      <th>15</th>\n",
       "      <td>JTHBJ46G072023681</td>\n",
       "      <td>LEXUS</td>\n",
       "      <td>LEXUS</td>\n",
       "    </tr>\n",
       "    <tr>\n",
       "      <th>16</th>\n",
       "      <td>JTHBJ46G372031435</td>\n",
       "      <td>LEXUS</td>\n",
       "      <td>LEXUS</td>\n",
       "    </tr>\n",
       "    <tr>\n",
       "      <th>17</th>\n",
       "      <td>5TDZK22C48S145992</td>\n",
       "      <td>TOYOTA</td>\n",
       "      <td>TOYOTA</td>\n",
       "    </tr>\n",
       "    <tr>\n",
       "      <th>18</th>\n",
       "      <td>JTNBB46K483047170</td>\n",
       "      <td>TOYOTA</td>\n",
       "      <td>TOYOTA</td>\n",
       "    </tr>\n",
       "    <tr>\n",
       "      <th>19</th>\n",
       "      <td>1YVHP80D375M13991</td>\n",
       "      <td>MAZDA</td>\n",
       "      <td>MAZDA</td>\n",
       "    </tr>\n",
       "    <tr>\n",
       "      <th>20</th>\n",
       "      <td>JT3HJ85J1V0186353</td>\n",
       "      <td>TOYOTA</td>\n",
       "      <td>TOYOTA</td>\n",
       "    </tr>\n",
       "    <tr>\n",
       "      <th>21</th>\n",
       "      <td>1HGEM22983L076457</td>\n",
       "      <td>HONDA</td>\n",
       "      <td>HONDA</td>\n",
       "    </tr>\n",
       "    <tr>\n",
       "      <th>22</th>\n",
       "      <td>JF1GD70655L525454</td>\n",
       "      <td>SUBARU</td>\n",
       "      <td>SUBARU</td>\n",
       "    </tr>\n",
       "    <tr>\n",
       "      <th>23</th>\n",
       "      <td>5N1BV28U04N367188</td>\n",
       "      <td>NISSAN</td>\n",
       "      <td>NISSAN</td>\n",
       "    </tr>\n",
       "    <tr>\n",
       "      <th>24</th>\n",
       "      <td>1HGFA165X6L093876</td>\n",
       "      <td>HONDA</td>\n",
       "      <td>HONDA</td>\n",
       "    </tr>\n",
       "    <tr>\n",
       "      <th>25</th>\n",
       "      <td>1C3EL55R84N365590</td>\n",
       "      <td>CHRYSLER</td>\n",
       "      <td>CHRYSLER</td>\n",
       "    </tr>\n",
       "    <tr>\n",
       "      <th>26</th>\n",
       "      <td>1C3EL55R34N335803</td>\n",
       "      <td>CHRYSLER</td>\n",
       "      <td>CHRYSLER</td>\n",
       "    </tr>\n",
       "    <tr>\n",
       "      <th>27</th>\n",
       "      <td>JHMBB61401C000991</td>\n",
       "      <td>HONDA</td>\n",
       "      <td>HONDA</td>\n",
       "    </tr>\n",
       "    <tr>\n",
       "      <th>28</th>\n",
       "      <td>1FMZU63E91ZA27244</td>\n",
       "      <td>FORD</td>\n",
       "      <td>FORD</td>\n",
       "    </tr>\n",
       "    <tr>\n",
       "      <th>29</th>\n",
       "      <td>WDBRF54H26A871275</td>\n",
       "      <td>MERCEDES-BENZ</td>\n",
       "      <td>MERCEDES-BENZ</td>\n",
       "    </tr>\n",
       "    <tr>\n",
       "      <th>30</th>\n",
       "      <td>JTJHW31U172037249</td>\n",
       "      <td>LEXUS</td>\n",
       "      <td>LEXUS</td>\n",
       "    </tr>\n",
       "    <tr>\n",
       "      <th>31</th>\n",
       "      <td>JTHBJ46G182155074</td>\n",
       "      <td>LEXUS</td>\n",
       "      <td>LEXUS</td>\n",
       "    </tr>\n",
       "    <tr>\n",
       "      <th>32</th>\n",
       "      <td>JTHBJ46G382155724</td>\n",
       "      <td>LEXUS</td>\n",
       "      <td>LEXUS</td>\n",
       "    </tr>\n",
       "    <tr>\n",
       "      <th>33</th>\n",
       "      <td>JTHBJ46G582156714</td>\n",
       "      <td>LEXUS</td>\n",
       "      <td>LEXUS</td>\n",
       "    </tr>\n",
       "    <tr>\n",
       "      <th>34</th>\n",
       "      <td>JTHBJ46G982156103</td>\n",
       "      <td>LEXUS</td>\n",
       "      <td>LEXUS</td>\n",
       "    </tr>\n",
       "    <tr>\n",
       "      <th>35</th>\n",
       "      <td>JTHBJ46G172149497</td>\n",
       "      <td>LEXUS</td>\n",
       "      <td>LEXUS</td>\n",
       "    </tr>\n",
       "    <tr>\n",
       "      <th>36</th>\n",
       "      <td>JTHBJ46G272148150</td>\n",
       "      <td>LEXUS</td>\n",
       "      <td>LEXUS</td>\n",
       "    </tr>\n",
       "    <tr>\n",
       "      <th>37</th>\n",
       "      <td>JTHBJ46G172149614</td>\n",
       "      <td>LEXUS</td>\n",
       "      <td>LEXUS</td>\n",
       "    </tr>\n",
       "    <tr>\n",
       "      <th>38</th>\n",
       "      <td>JTHBJ46G472152636</td>\n",
       "      <td>LEXUS</td>\n",
       "      <td>LEXUS</td>\n",
       "    </tr>\n",
       "    <tr>\n",
       "      <th>39</th>\n",
       "      <td>JTHBJ46G182155429</td>\n",
       "      <td>LEXUS</td>\n",
       "      <td>LEXUS</td>\n",
       "    </tr>\n",
       "    <tr>\n",
       "      <th>40</th>\n",
       "      <td>JTHBJ46G182155687</td>\n",
       "      <td>LEXUS</td>\n",
       "      <td>LEXUS</td>\n",
       "    </tr>\n",
       "    <tr>\n",
       "      <th>41</th>\n",
       "      <td>JTHBJ46G282155312</td>\n",
       "      <td>LEXUS</td>\n",
       "      <td>LEXUS</td>\n",
       "    </tr>\n",
       "    <tr>\n",
       "      <th>42</th>\n",
       "      <td>JTHBJ46G482155523</td>\n",
       "      <td>LEXUS</td>\n",
       "      <td>LEXUS</td>\n",
       "    </tr>\n",
       "    <tr>\n",
       "      <th>43</th>\n",
       "      <td>JTHBJ46G482156655</td>\n",
       "      <td>LEXUS</td>\n",
       "      <td>LEXUS</td>\n",
       "    </tr>\n",
       "    <tr>\n",
       "      <th>44</th>\n",
       "      <td>JTHBJ46G182155267</td>\n",
       "      <td>LEXUS</td>\n",
       "      <td>LEXUS</td>\n",
       "    </tr>\n",
       "    <tr>\n",
       "      <th>45</th>\n",
       "      <td>JTHBJ46G782156648</td>\n",
       "      <td>LEXUS</td>\n",
       "      <td>LEXUS</td>\n",
       "    </tr>\n",
       "    <tr>\n",
       "      <th>46</th>\n",
       "      <td>JTHBJ46G582156602</td>\n",
       "      <td>LEXUS</td>\n",
       "      <td>LEXUS</td>\n",
       "    </tr>\n",
       "    <tr>\n",
       "      <th>47</th>\n",
       "      <td>JTHBJ46GX82156370</td>\n",
       "      <td>LEXUS</td>\n",
       "      <td>LEXUS</td>\n",
       "    </tr>\n",
       "    <tr>\n",
       "      <th>48</th>\n",
       "      <td>JTHBJ46G872153109</td>\n",
       "      <td>LEXUS</td>\n",
       "      <td>LEXUS</td>\n",
       "    </tr>\n",
       "    <tr>\n",
       "      <th>49</th>\n",
       "      <td>JTHBJ46G672153271</td>\n",
       "      <td>LEXUS</td>\n",
       "      <td>LEXUS</td>\n",
       "    </tr>\n",
       "  </tbody>\n",
       "</table>\n",
       "</div>"
      ],
      "text/plain": [
       "                  vin         make_x         make_y\n",
       "0   WBAVC93527KX57115            BMW            BMW\n",
       "1   5TDZK22C08S144726         TOYOTA         TOYOTA\n",
       "2   5TDZK22C18S143326         TOYOTA         TOYOTA\n",
       "3   5TDZK22C58S129784         TOYOTA         TOYOTA\n",
       "4   JTHBJ46G782185180          LEXUS          LEXUS\n",
       "5   JTHBJ46G682185204          LEXUS          LEXUS\n",
       "6   JTHBJ46G682169908          LEXUS          LEXUS\n",
       "7   JTHBJ46G382172586          LEXUS          LEXUS\n",
       "8   JTHBJ46G882175791          LEXUS          LEXUS\n",
       "9   JTHBJ46G982175878          LEXUS          LEXUS\n",
       "10  JTHBJ46G182176684          LEXUS          LEXUS\n",
       "11  JTEBT14R48K001632         TOYOTA         TOYOTA\n",
       "12  5TDZK22C18S146193         TOYOTA         TOYOTA\n",
       "13  WBAVD135X6KV03181            BMW            BMW\n",
       "14  5TDZK22C98S135555         TOYOTA         TOYOTA\n",
       "15  JTHBJ46G072023681          LEXUS          LEXUS\n",
       "16  JTHBJ46G372031435          LEXUS          LEXUS\n",
       "17  5TDZK22C48S145992         TOYOTA         TOYOTA\n",
       "18  JTNBB46K483047170         TOYOTA         TOYOTA\n",
       "19  1YVHP80D375M13991          MAZDA          MAZDA\n",
       "20  JT3HJ85J1V0186353         TOYOTA         TOYOTA\n",
       "21  1HGEM22983L076457          HONDA          HONDA\n",
       "22  JF1GD70655L525454         SUBARU         SUBARU\n",
       "23  5N1BV28U04N367188         NISSAN         NISSAN\n",
       "24  1HGFA165X6L093876          HONDA          HONDA\n",
       "25  1C3EL55R84N365590       CHRYSLER       CHRYSLER\n",
       "26  1C3EL55R34N335803       CHRYSLER       CHRYSLER\n",
       "27  JHMBB61401C000991          HONDA          HONDA\n",
       "28  1FMZU63E91ZA27244           FORD           FORD\n",
       "29  WDBRF54H26A871275  MERCEDES-BENZ  MERCEDES-BENZ\n",
       "30  JTJHW31U172037249          LEXUS          LEXUS\n",
       "31  JTHBJ46G182155074          LEXUS          LEXUS\n",
       "32  JTHBJ46G382155724          LEXUS          LEXUS\n",
       "33  JTHBJ46G582156714          LEXUS          LEXUS\n",
       "34  JTHBJ46G982156103          LEXUS          LEXUS\n",
       "35  JTHBJ46G172149497          LEXUS          LEXUS\n",
       "36  JTHBJ46G272148150          LEXUS          LEXUS\n",
       "37  JTHBJ46G172149614          LEXUS          LEXUS\n",
       "38  JTHBJ46G472152636          LEXUS          LEXUS\n",
       "39  JTHBJ46G182155429          LEXUS          LEXUS\n",
       "40  JTHBJ46G182155687          LEXUS          LEXUS\n",
       "41  JTHBJ46G282155312          LEXUS          LEXUS\n",
       "42  JTHBJ46G482155523          LEXUS          LEXUS\n",
       "43  JTHBJ46G482156655          LEXUS          LEXUS\n",
       "44  JTHBJ46G182155267          LEXUS          LEXUS\n",
       "45  JTHBJ46G782156648          LEXUS          LEXUS\n",
       "46  JTHBJ46G582156602          LEXUS          LEXUS\n",
       "47  JTHBJ46GX82156370          LEXUS          LEXUS\n",
       "48  JTHBJ46G872153109          LEXUS          LEXUS\n",
       "49  JTHBJ46G672153271          LEXUS          LEXUS"
      ]
     },
     "execution_count": 14,
     "metadata": {},
     "output_type": "execute_result"
    }
   ],
   "source": [
    "merge_df = pd.merge(df_50, df_100, on=['vin'], how='left')\n",
    "merge_df"
   ]
  },
  {
   "cell_type": "code",
   "execution_count": 15,
   "metadata": {},
   "outputs": [],
   "source": [
    "from ipywidgets.widgets import Label, FloatProgress, FloatSlider, Button\n",
    "from ipywidgets.widgets import Layout, HBox, VBox\n",
    "from IPython.display import display\n",
    "import time"
   ]
  },
  {
   "cell_type": "code",
   "execution_count": 1,
   "metadata": {},
   "outputs": [
    {
     "ename": "NameError",
     "evalue": "name 'Button' is not defined",
     "output_type": "error",
     "traceback": [
      "\u001b[0;31m---------------------------------------------------------------------------\u001b[0m",
      "\u001b[0;31mNameError\u001b[0m                                 Traceback (most recent call last)",
      "\u001b[0;32m<ipython-input-1-ae5fa9e8a771>\u001b[0m in \u001b[0;36m<module>\u001b[0;34m\u001b[0m\n\u001b[0;32m----> 1\u001b[0;31m b_stop = Button(\n\u001b[0m\u001b[1;32m      2\u001b[0m     \u001b[0mdescription\u001b[0m\u001b[0;34m=\u001b[0m\u001b[0;34m'Query Data Frame?'\u001b[0m\u001b[0;34m,\u001b[0m\u001b[0;34m\u001b[0m\u001b[0;34m\u001b[0m\u001b[0m\n\u001b[1;32m      3\u001b[0m     \u001b[0micon\u001b[0m\u001b[0;34m=\u001b[0m\u001b[0;34m'Stop'\u001b[0m\u001b[0;34m,\u001b[0m\u001b[0;34m\u001b[0m\u001b[0;34m\u001b[0m\u001b[0m\n\u001b[1;32m      4\u001b[0m     \u001b[0mbutton_style\u001b[0m\u001b[0;34m=\u001b[0m\u001b[0;34m'warning'\u001b[0m\u001b[0;34m,\u001b[0m\u001b[0;34m\u001b[0m\u001b[0;34m\u001b[0m\u001b[0m\n\u001b[1;32m      5\u001b[0m     \u001b[0mlayout\u001b[0m\u001b[0;34m=\u001b[0m\u001b[0mLayout\u001b[0m\u001b[0;34m(\u001b[0m\u001b[0mwidth\u001b[0m\u001b[0;34m=\u001b[0m\u001b[0;34m'150px'\u001b[0m\u001b[0;34m)\u001b[0m\u001b[0;34m\u001b[0m\u001b[0;34m\u001b[0m\u001b[0m\n",
      "\u001b[0;31mNameError\u001b[0m: name 'Button' is not defined"
     ]
    }
   ],
   "source": [
    "b_stop = Button(\n",
    "    description='Query Data Frame?', \n",
    "    icon='Stop', \n",
    "    button_style='warning', \n",
    "    layout=Layout(width='150px')\n",
    ")\n",
    "\n",
    "def stop_click(b):\n",
    "    global flag\n",
    "    flag = False\n",
    "    w2.value='Jupyter time: ' + str(time.time())\n",
    "    \n",
    "    print(df_50)\n",
    "    \n",
    "w2 = Label(\n",
    "    value = '...',\n",
    "    layout = Layout(margin='0 10px 0 31px')\n",
    ")\n",
    "\n",
    "w12 = HBox(\n",
    "    children=(b_stop, w2),\n",
    "    layout=Layout(margin='0 0 0 43px')\n",
    ")\n",
    "\n",
    "\n",
    "    \n",
    "b_stop.on_click(stop_click)\n",
    "w12\n",
    "\n",
    "                "
   ]
  },
  {
   "cell_type": "code",
   "execution_count": null,
   "metadata": {},
   "outputs": [],
   "source": []
  },
  {
   "cell_type": "code",
   "execution_count": null,
   "metadata": {},
   "outputs": [],
   "source": []
  },
  {
   "cell_type": "code",
   "execution_count": null,
   "metadata": {},
   "outputs": [],
   "source": []
  },
  {
   "cell_type": "code",
   "execution_count": null,
   "metadata": {},
   "outputs": [],
   "source": []
  },
  {
   "cell_type": "code",
   "execution_count": null,
   "metadata": {},
   "outputs": [],
   "source": []
  }
 ],
 "metadata": {
  "kernelspec": {
   "display_name": "Python 3",
   "language": "python",
   "name": "python3"
  },
  "language_info": {
   "codemirror_mode": {
    "name": "ipython",
    "version": 3
   },
   "file_extension": ".py",
   "mimetype": "text/x-python",
   "name": "python",
   "nbconvert_exporter": "python",
   "pygments_lexer": "ipython3",
   "version": "3.7.4"
  }
 },
 "nbformat": 4,
 "nbformat_minor": 2
}
